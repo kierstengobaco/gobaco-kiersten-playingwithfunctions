{
 "cells": [
  {
   "cell_type": "markdown",
   "metadata": {},
   "source": [
    "192269\n",
    "Gobaco\n",
    "2 BS ITE"
   ]
  },
  {
   "cell_type": "markdown",
   "metadata": {},
   "source": [
    "1 circumference to area of a circle"
   ]
  },
  {
   "cell_type": "code",
   "execution_count": 24,
   "metadata": {},
   "outputs": [
    {
     "name": "stdout",
     "output_type": "stream",
     "text": [
      "Enter the circumference of a circle: 24\n",
      "The area of the circle is 45.83651642475172\n"
     ]
    }
   ],
   "source": [
    "PI = 3.1416\n",
    "circumference = float(input('Enter the circumference of a circle: '))\n",
    "\n",
    "area = circumference * circumference / ( 4 * PI)\n",
    "\n",
    "print(\"The area of the circle is\", area)"
   ]
  },
  {
   "cell_type": "markdown",
   "metadata": {},
   "source": [
    "2.Write a function that takes a 5-character string as a parameter and returns the string in reverse order.\n",
    "\n",
    "e.g. reverseString(\"Hello\") -> \"olleH\""
   ]
  },
  {
   "cell_type": "code",
   "execution_count": 18,
   "metadata": {},
   "outputs": [
    {
     "name": "stdout",
     "output_type": "stream",
     "text": [
      "What 5 character word? das\n",
      "try another word\n",
      "What 5 character word? Hello\n",
      "olleH\n"
     ]
    }
   ],
   "source": [
    "def reverseString(w):\n",
    "    reved = \"\"\n",
    "    for x in range(len(w)):\n",
    "        reved = reved + w[-x-1]\n",
    "    return(reved)\n",
    "while True:\n",
    "    inp = input(\"What 5 character word? \")\n",
    "    if len(inp)==5:\n",
    "        print(reverseString(inp))\n",
    "        break\n",
    "    else:\n",
    "        print(\"try another word\")"
   ]
  },
  {
   "cell_type": "markdown",
   "metadata": {},
   "source": [
    "3. Write a function that takes a positive integer as input and returns the sum of all positive integers smaller than and including the number itself.\n",
    "\n",
    "e.g. backAddition(5) -> 1 + 2 + 3 + 4 + 5 -> 15"
   ]
  },
  {
   "cell_type": "code",
   "execution_count": 25,
   "metadata": {},
   "outputs": [
    {
     "name": "stdout",
     "output_type": "stream",
     "text": [
      "What number? 9\n",
      "45\n"
     ]
    }
   ],
   "source": [
    "def backAddition(num):\n",
    "    sum = 0\n",
    "    for x in range(num):\n",
    "        sum = sum + x+1\n",
    "    return(sum)\n",
    "while True:\n",
    "    inp = int(input(\"What number? \"))\n",
    "    if inp > 0:\n",
    "        print(backAddition(inp))\n",
    "        break\n",
    "    else:\n",
    "        print(\"enter another number\")\n"
   ]
  },
  {
   "cell_type": "markdown",
   "metadata": {},
   "source": [
    "4. The sum of the squares of the first ten natural numbers is, 12 + 22 + ... + 102 = 385\n",
    "\n",
    "The square of the sum of the first ten natural numbers is, (1 + 2 + ... + 10)2 = 552 = 3025\n",
    "\n",
    "Hence the difference between the sum of the squares of the first ten natural numbers and the square of the sum is 3025 − 385 = 2640.\n",
    "\n",
    "Find the difference between the sum of the squares of the first one hundred natural numbers and the square of the sum.\n",
    "\n",
    "Show code that generates the answer."
   ]
  },
  {
   "cell_type": "code",
   "execution_count": 19,
   "metadata": {},
   "outputs": [
    {
     "name": "stdout",
     "output_type": "stream",
     "text": [
      "25164150\n"
     ]
    }
   ],
   "source": [
    "sqofsum = 0\n",
    "sumofsq = 0\n",
    "for i in range(100):\n",
    "    sqofsum = sqofsum + i + 1\n",
    "    sumofsq = sumofsq + (i+1)**2\n",
    "    \n",
    "sqofsum = sqofsum**2\n",
    "\n",
    "print(sqofsum-sumofsq)"
   ]
  },
  {
   "cell_type": "markdown",
   "metadata": {},
   "source": [
    "5. Write a function that allows a self-service Point of Sale system to give you the exact change when you pay in cash.\n",
    "\n",
    "The function should accept the number of cents entered by the caller of the function. It then should display the denominations of the coins that should be given to the buyer. The change should use as few coins as possible. Assume that the Point of Sale system is loaded with 1 cent, 5 cents, 10 cents, 25 cents and 1 peso coins.\n",
    "\n",
    "Write main program code that accepts the number of cents manually through user input and calls the function written above.\n",
    "\n",
    "Input: The program accepts one positive integer, cents, corresponding to the total change to be given by the Point of Sale system.\n",
    "\n",
    "Output: The number of 1 peso, 25 cents, 10 cents, 5 cents and 1 cent coins respectively. There should be one output per line."
   ]
  },
  {
   "cell_type": "code",
   "execution_count": null,
   "metadata": {},
   "outputs": [],
   "source": [
    "def pos(change):\n",
    "    arr = [100, 25, 10, 5, 1]\n",
    "    for i in range(5):\n",
    "        num = change//arr[i]\n",
    "        print(num)\n",
    "        change = change - num*arr[i]\n",
    "\n",
    "inp = int(input(\"How much change?\"))\n",
    "pos(inp)\n"
   ]
  }
 ],
 "metadata": {
  "kernelspec": {
   "display_name": "Python 3",
   "language": "python",
   "name": "python3"
  },
  "language_info": {
   "codemirror_mode": {
    "name": "ipython",
    "version": 3
   },
   "file_extension": ".py",
   "mimetype": "text/x-python",
   "name": "python",
   "nbconvert_exporter": "python",
   "pygments_lexer": "ipython3",
   "version": "3.8.5"
  }
 },
 "nbformat": 4,
 "nbformat_minor": 4
}
